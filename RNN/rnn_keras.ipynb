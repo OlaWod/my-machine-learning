{
  "nbformat": 4,
  "nbformat_minor": 0,
  "metadata": {
    "colab": {
      "name": "rnn_keras.ipynb",
      "provenance": []
    },
    "kernelspec": {
      "name": "python3",
      "display_name": "Python 3"
    }
  },
  "cells": [
    {
      "cell_type": "code",
      "metadata": {
        "id": "zLnmleDnwKPL",
        "colab_type": "code",
        "colab": {}
      },
      "source": [
        "from tensorflow.keras.preprocessing import text_dataset_from_directory\n",
        "from tensorflow.strings import regex_replace\n",
        "from tensorflow.keras.models import Sequential\n",
        "from tensorflow.keras import Input\n",
        "from tensorflow.keras.layers.experimental.preprocessing import TextVectorization\n",
        "from tensorflow.keras.layers import Embedding, LSTM, Dense"
      ],
      "execution_count": null,
      "outputs": []
    },
    {
      "cell_type": "code",
      "metadata": {
        "id": "QDeYkMucoPy3",
        "colab_type": "code",
        "colab": {}
      },
      "source": [
        "# 加载数据们\n",
        "train_data = text_dataset_from_directory(\"./drive/My Drive/train\") # 训练数据集\n",
        "test_data = text_dataset_from_directory(\"./test\") # 测试数据集"
      ],
      "execution_count": null,
      "outputs": []
    },
    {
      "cell_type": "code",
      "metadata": {
        "id": "UFau2yN_xoXs",
        "colab_type": "code",
        "colab": {}
      },
      "source": [
        "# 将训练数据中的单词们转为向量的层vectorize_layer\n",
        "max_tokens = 1000\n",
        "max_len = 100\n",
        "vectorize_layer = TextVectorization(\n",
        "  max_tokens=max_tokens,\n",
        "  output_mode=\"int\",\n",
        "  output_sequence_length=max_len,\n",
        ")\n",
        "train_texts = train_data.map(lambda text, label: text)\n",
        "vectorize_layer.adapt(train_texts)"
      ],
      "execution_count": null,
      "outputs": []
    },
    {
      "cell_type": "code",
      "metadata": {
        "id": "Aj87-znCyN-T",
        "colab_type": "code",
        "colab": {}
      },
      "source": [
        "model = Sequential()\n",
        "model.add(Input(shape=(1,), dtype=\"string\")) # \"i loved it! highly recommend\"\n",
        "model.add(vectorize_layer) # 7, 2, 7, 5, 1 \n",
        "model.add(Embedding(max_tokens + 1, 128)) # [00000001], [00100000], [00000001], [00000100], [10000000]\n",
        "model.add(LSTM(64)) # 输出为64维\n",
        "model.add(Dense(64, activation=\"relu\"))\n",
        "model.add(Dense(1, activation=\"sigmoid\"))"
      ],
      "execution_count": null,
      "outputs": []
    },
    {
      "cell_type": "code",
      "metadata": {
        "id": "ZxpvdwImzan0",
        "colab_type": "code",
        "colab": {}
      },
      "source": [
        "model.compile(\n",
        "  optimizer='adam',\n",
        "  loss='binary_crossentropy',\n",
        "  metrics=['accuracy'],\n",
        ")"
      ],
      "execution_count": null,
      "outputs": []
    },
    {
      "cell_type": "code",
      "metadata": {
        "id": "sKeDuvKNz-U2",
        "colab_type": "code",
        "colab": {}
      },
      "source": [
        "model.fit(train_data, epochs=10)"
      ],
      "execution_count": null,
      "outputs": []
    },
    {
      "cell_type": "code",
      "metadata": {
        "id": "GqGh6f_Z0IoW",
        "colab_type": "code",
        "colab": {}
      },
      "source": [
        "print(model.predict([\n",
        "  \"i loved it! highly recommend it to anyone and everyone looking for a great movie to watch.\",\n",
        "]))"
      ],
      "execution_count": null,
      "outputs": []
    }
  ]
}